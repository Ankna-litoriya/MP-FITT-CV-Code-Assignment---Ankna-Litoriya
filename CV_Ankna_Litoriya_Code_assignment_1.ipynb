{
  "nbformat": 4,
  "nbformat_minor": 0,
  "metadata": {
    "colab": {
      "provenance": []
    },
    "kernelspec": {
      "name": "python3",
      "display_name": "Python 3"
    },
    "language_info": {
      "name": "python"
    }
  },
  "cells": [
    {
      "cell_type": "code",
      "source": [
        "import numpy as np\n",
        "\n",
        "# Sigmoid activation function\n",
        "def sigmoid(x):\n",
        "    return 1 / (1 + np.exp(-x))\n",
        "\n",
        "# Derivative of sigmoid function\n",
        "def sigmoid_derivative(x):\n",
        "    return x * (1 - x)\n",
        "\n",
        "class NeuralNetwork:\n",
        "    def __init__(self, input_size, hidden_size, output_size):\n",
        "        # Initialize random weights and biases\n",
        "        self.weights_input_hidden = np.random.rand(input_size, hidden_size)\n",
        "        self.bias_hidden = np.zeros((1, hidden_size))\n",
        "        self.weights_hidden_output = np.random.rand(hidden_size, output_size)\n",
        "        self.bias_output = np.zeros((1, output_size))\n",
        "\n",
        "    def forward(self, inputs):\n",
        "        # Feedforward\n",
        "        self.inputs = inputs\n",
        "        self.hidden_layer_input = np.dot(inputs, self.weights_input_hidden) + self.bias_hidden\n",
        "        self.hidden_layer_output = sigmoid(self.hidden_layer_input)\n",
        "        self.output_layer_input = np.dot(self.hidden_layer_output, self.weights_hidden_output) + self.bias_output\n",
        "        self.output = sigmoid(self.output_layer_input)\n",
        "        return self.output\n",
        "\n",
        "    def backward(self, target, learning_rate):\n",
        "        # Backpropagation\n",
        "        loss = target - self.output\n",
        "        delta_output = loss * sigmoid_derivative(self.output)\n",
        "        loss_hidden = delta_output.dot(self.weights_hidden_output.T)\n",
        "        delta_hidden = loss_hidden * sigmoid_derivative(self.hidden_layer_output)\n",
        "\n",
        "        # Update weights and biases\n",
        "        self.weights_hidden_output += np.dot(self.hidden_layer_output.T, delta_output) * learning_rate\n",
        "        self.bias_output += np.sum(delta_output, axis=0, keepdims=True) * learning_rate\n",
        "        self.weights_input_hidden += np.dot(self.inputs.T, delta_hidden) * learning_rate\n",
        "        self.bias_hidden += np.sum(delta_hidden, axis=0, keepdims=True) * learning_rate\n",
        "\n",
        "if __name__ == \"__main__\":\n",
        "    # Define neural network parameters\n",
        "    input_size = 4\n",
        "    hidden_size = 8\n",
        "    output_size = 1\n",
        "\n",
        "    # Create neural network\n",
        "    nn = NeuralNetwork(input_size, hidden_size, output_size)\n",
        "\n",
        "    # Training data and target data\n",
        "    training_data = np.array([[0, 0, 1, 1], [0, 1, 1, 1], [1, 0, 1, 0], [1, 1, 1, 0]])\n",
        "    target_data = np.array([[0], [1], [1], [0]])\n",
        "\n",
        "    # Training loop\n",
        "    for _ in range(20000):\n",
        "        nn.forward(training_data)\n",
        "        nn.backward(target_data, learning_rate=0.001)\n",
        "\n",
        "    # Test with new data\n",
        "    new_data = np.array([0, 1, 0, 0])\n",
        "    predicted_output = nn.forward(new_data)\n",
        "\n",
        "    # Print predicted output\n",
        "    print(f\"Predicted output: {predicted_output[0]}\")\n"
      ],
      "metadata": {
        "colab": {
          "base_uri": "https://localhost:8080/"
        },
        "id": "Nk2Txyj52IaO",
        "outputId": "b58db76e-e676-4215-e727-e2319d63065b"
      },
      "execution_count": 2,
      "outputs": [
        {
          "output_type": "stream",
          "name": "stdout",
          "text": [
            "Predicted output: [0.4791302]\n"
          ]
        }
      ]
    },
    {
      "cell_type": "code",
      "source": [
        "# using iris data set\n",
        "import pandas as pd\n",
        "import numpy as np\n",
        "import matplotlib.pyplot as plt\n",
        "import seaborn as sns\n",
        "from sklearn.model_selection import train_test_split\n",
        "import sklearn\n",
        "from sklearn.datasets import load_iris\n",
        "from sklearn.preprocessing import StandardScaler\n",
        "from tensorflow.keras.utils import to_categorical"
      ],
      "metadata": {
        "id": "8L5dbmo52ytv"
      },
      "execution_count": 3,
      "outputs": []
    },
    {
      "cell_type": "code",
      "source": [
        "# load iris data and preprocessing\n",
        "iris = load_iris()\n",
        "X = iris.data\n",
        "y = iris.target\n",
        "x_train, x_test, y_train, y_test = train_test_split(X,y,\n",
        "random_state=42,\n",
        "test_size=0.25,\n",
        "shuffle=True)\n",
        "\n",
        "scaler = StandardScaler()\n",
        "x_train = scaler.fit_transform(x_train)\n",
        "x_test = scaler.transform(x_test)\n",
        "# One-hot encode the target variable\n",
        "y_train_encoded = to_categorical(y_train)"
      ],
      "metadata": {
        "id": "aOVL6rmx209O"
      },
      "execution_count": 4,
      "outputs": []
    },
    {
      "cell_type": "code",
      "source": [
        "y_train_encoded[:2]"
      ],
      "metadata": {
        "colab": {
          "base_uri": "https://localhost:8080/"
        },
        "id": "mXVUnidv2_4B",
        "outputId": "0542f85a-3d9e-4295-96ab-be56fd0f9c2b"
      },
      "execution_count": 5,
      "outputs": [
        {
          "output_type": "execute_result",
          "data": {
            "text/plain": [
              "array([[1., 0., 0.],\n",
              "       [1., 0., 0.]], dtype=float32)"
            ]
          },
          "metadata": {},
          "execution_count": 5
        }
      ]
    },
    {
      "cell_type": "code",
      "source": [
        "import tensorflow as tf\n",
        "from tensorflow.keras.models import Sequential\n",
        "from tensorflow.keras.layers import Dense, Dropout\n",
        "# Create a sequential model\n",
        "model = Sequential()\n",
        "# Add layers to the model\n",
        "model.add(Dense(64, activation='relu', input_shape=(4,)))\n",
        "model.add(Dense(64, activation='relu'))\n",
        "model.add(Dense(3, activation='softmax'))\n",
        "# Compile the model\n",
        "model.compile(optimizer='adam',\n",
        "loss='categorical_crossentropy',\n",
        "metrics=['accuracy'])\n",
        "history = model.fit(x_train, y_train_encoded, epochs=50, validation_split=0.2)"
      ],
      "metadata": {
        "colab": {
          "base_uri": "https://localhost:8080/"
        },
        "id": "a4gViOKQ3EDl",
        "outputId": "4825a7e6-ca3b-4034-eb5b-d628bbc2124e"
      },
      "execution_count": 6,
      "outputs": [
        {
          "output_type": "stream",
          "name": "stdout",
          "text": [
            "Epoch 1/50\n",
            "3/3 [==============================] - 1s 128ms/step - loss: 1.0523 - accuracy: 0.5281 - val_loss: 0.9910 - val_accuracy: 0.6087\n",
            "Epoch 2/50\n",
            "3/3 [==============================] - 0s 18ms/step - loss: 0.9788 - accuracy: 0.5843 - val_loss: 0.9292 - val_accuracy: 0.7391\n",
            "Epoch 3/50\n",
            "3/3 [==============================] - 0s 17ms/step - loss: 0.9150 - accuracy: 0.6742 - val_loss: 0.8727 - val_accuracy: 0.8261\n",
            "Epoch 4/50\n",
            "3/3 [==============================] - 0s 17ms/step - loss: 0.8558 - accuracy: 0.7416 - val_loss: 0.8203 - val_accuracy: 0.8261\n",
            "Epoch 5/50\n",
            "3/3 [==============================] - 0s 17ms/step - loss: 0.7993 - accuracy: 0.7528 - val_loss: 0.7719 - val_accuracy: 0.8261\n",
            "Epoch 6/50\n",
            "3/3 [==============================] - 0s 18ms/step - loss: 0.7466 - accuracy: 0.7753 - val_loss: 0.7271 - val_accuracy: 0.8261\n",
            "Epoch 7/50\n",
            "3/3 [==============================] - 0s 17ms/step - loss: 0.7009 - accuracy: 0.7753 - val_loss: 0.6856 - val_accuracy: 0.8261\n",
            "Epoch 8/50\n",
            "3/3 [==============================] - 0s 17ms/step - loss: 0.6572 - accuracy: 0.7865 - val_loss: 0.6482 - val_accuracy: 0.8261\n",
            "Epoch 9/50\n",
            "3/3 [==============================] - 0s 18ms/step - loss: 0.6196 - accuracy: 0.7865 - val_loss: 0.6150 - val_accuracy: 0.8261\n",
            "Epoch 10/50\n",
            "3/3 [==============================] - 0s 27ms/step - loss: 0.5859 - accuracy: 0.8090 - val_loss: 0.5843 - val_accuracy: 0.8261\n",
            "Epoch 11/50\n",
            "3/3 [==============================] - 0s 17ms/step - loss: 0.5565 - accuracy: 0.8090 - val_loss: 0.5555 - val_accuracy: 0.8696\n",
            "Epoch 12/50\n",
            "3/3 [==============================] - 0s 28ms/step - loss: 0.5296 - accuracy: 0.8202 - val_loss: 0.5297 - val_accuracy: 0.8696\n",
            "Epoch 13/50\n",
            "3/3 [==============================] - 0s 19ms/step - loss: 0.5051 - accuracy: 0.8427 - val_loss: 0.5070 - val_accuracy: 0.9130\n",
            "Epoch 14/50\n",
            "3/3 [==============================] - 0s 18ms/step - loss: 0.4820 - accuracy: 0.8427 - val_loss: 0.4849 - val_accuracy: 0.9130\n",
            "Epoch 15/50\n",
            "3/3 [==============================] - 0s 26ms/step - loss: 0.4603 - accuracy: 0.8539 - val_loss: 0.4647 - val_accuracy: 0.9130\n",
            "Epoch 16/50\n",
            "3/3 [==============================] - 0s 18ms/step - loss: 0.4414 - accuracy: 0.8427 - val_loss: 0.4465 - val_accuracy: 0.9130\n",
            "Epoch 17/50\n",
            "3/3 [==============================] - 0s 17ms/step - loss: 0.4226 - accuracy: 0.8427 - val_loss: 0.4292 - val_accuracy: 0.9130\n",
            "Epoch 18/50\n",
            "3/3 [==============================] - 0s 18ms/step - loss: 0.4046 - accuracy: 0.8539 - val_loss: 0.4122 - val_accuracy: 0.9130\n",
            "Epoch 19/50\n",
            "3/3 [==============================] - 0s 17ms/step - loss: 0.3884 - accuracy: 0.8539 - val_loss: 0.3961 - val_accuracy: 0.9130\n",
            "Epoch 20/50\n",
            "3/3 [==============================] - 0s 17ms/step - loss: 0.3728 - accuracy: 0.8539 - val_loss: 0.3809 - val_accuracy: 0.9130\n",
            "Epoch 21/50\n",
            "3/3 [==============================] - 0s 17ms/step - loss: 0.3578 - accuracy: 0.8539 - val_loss: 0.3674 - val_accuracy: 0.9130\n",
            "Epoch 22/50\n",
            "3/3 [==============================] - 0s 16ms/step - loss: 0.3434 - accuracy: 0.8989 - val_loss: 0.3541 - val_accuracy: 0.9130\n",
            "Epoch 23/50\n",
            "3/3 [==============================] - 0s 16ms/step - loss: 0.3316 - accuracy: 0.8989 - val_loss: 0.3418 - val_accuracy: 0.9130\n",
            "Epoch 24/50\n",
            "3/3 [==============================] - 0s 16ms/step - loss: 0.3191 - accuracy: 0.8989 - val_loss: 0.3329 - val_accuracy: 0.9130\n",
            "Epoch 25/50\n",
            "3/3 [==============================] - 0s 17ms/step - loss: 0.3093 - accuracy: 0.9101 - val_loss: 0.3262 - val_accuracy: 0.9130\n",
            "Epoch 26/50\n",
            "3/3 [==============================] - 0s 27ms/step - loss: 0.2986 - accuracy: 0.9213 - val_loss: 0.3177 - val_accuracy: 0.9130\n",
            "Epoch 27/50\n",
            "3/3 [==============================] - 0s 34ms/step - loss: 0.2893 - accuracy: 0.9213 - val_loss: 0.3106 - val_accuracy: 0.9130\n",
            "Epoch 28/50\n",
            "3/3 [==============================] - 0s 32ms/step - loss: 0.2810 - accuracy: 0.9213 - val_loss: 0.3040 - val_accuracy: 0.9130\n",
            "Epoch 29/50\n",
            "3/3 [==============================] - 0s 34ms/step - loss: 0.2719 - accuracy: 0.9213 - val_loss: 0.2958 - val_accuracy: 0.9130\n",
            "Epoch 30/50\n",
            "3/3 [==============================] - 0s 37ms/step - loss: 0.2626 - accuracy: 0.9213 - val_loss: 0.2882 - val_accuracy: 0.9130\n",
            "Epoch 31/50\n",
            "3/3 [==============================] - 0s 38ms/step - loss: 0.2549 - accuracy: 0.9213 - val_loss: 0.2821 - val_accuracy: 0.9130\n",
            "Epoch 32/50\n",
            "3/3 [==============================] - 0s 31ms/step - loss: 0.2469 - accuracy: 0.9326 - val_loss: 0.2752 - val_accuracy: 0.9130\n",
            "Epoch 33/50\n",
            "3/3 [==============================] - 0s 24ms/step - loss: 0.2398 - accuracy: 0.9438 - val_loss: 0.2702 - val_accuracy: 0.9130\n",
            "Epoch 34/50\n",
            "3/3 [==============================] - 0s 33ms/step - loss: 0.2318 - accuracy: 0.9438 - val_loss: 0.2645 - val_accuracy: 0.9130\n",
            "Epoch 35/50\n",
            "3/3 [==============================] - 0s 40ms/step - loss: 0.2247 - accuracy: 0.9438 - val_loss: 0.2604 - val_accuracy: 0.9130\n",
            "Epoch 36/50\n",
            "3/3 [==============================] - 0s 36ms/step - loss: 0.2174 - accuracy: 0.9438 - val_loss: 0.2582 - val_accuracy: 0.9130\n",
            "Epoch 37/50\n",
            "3/3 [==============================] - 0s 42ms/step - loss: 0.2107 - accuracy: 0.9551 - val_loss: 0.2557 - val_accuracy: 0.9565\n",
            "Epoch 38/50\n",
            "3/3 [==============================] - 0s 42ms/step - loss: 0.2039 - accuracy: 0.9551 - val_loss: 0.2515 - val_accuracy: 0.9565\n",
            "Epoch 39/50\n",
            "3/3 [==============================] - 0s 42ms/step - loss: 0.1970 - accuracy: 0.9551 - val_loss: 0.2468 - val_accuracy: 0.9565\n",
            "Epoch 40/50\n",
            "3/3 [==============================] - 0s 41ms/step - loss: 0.1909 - accuracy: 0.9551 - val_loss: 0.2412 - val_accuracy: 0.9565\n",
            "Epoch 41/50\n",
            "3/3 [==============================] - 0s 37ms/step - loss: 0.1843 - accuracy: 0.9551 - val_loss: 0.2376 - val_accuracy: 0.9565\n",
            "Epoch 42/50\n",
            "3/3 [==============================] - 0s 32ms/step - loss: 0.1786 - accuracy: 0.9551 - val_loss: 0.2352 - val_accuracy: 0.9565\n",
            "Epoch 43/50\n",
            "3/3 [==============================] - 0s 45ms/step - loss: 0.1728 - accuracy: 0.9663 - val_loss: 0.2329 - val_accuracy: 0.9565\n",
            "Epoch 44/50\n",
            "3/3 [==============================] - 0s 35ms/step - loss: 0.1673 - accuracy: 0.9663 - val_loss: 0.2314 - val_accuracy: 0.9565\n",
            "Epoch 45/50\n",
            "3/3 [==============================] - 0s 50ms/step - loss: 0.1620 - accuracy: 0.9663 - val_loss: 0.2262 - val_accuracy: 0.9565\n",
            "Epoch 46/50\n",
            "3/3 [==============================] - 0s 39ms/step - loss: 0.1570 - accuracy: 0.9663 - val_loss: 0.2215 - val_accuracy: 0.9565\n",
            "Epoch 47/50\n",
            "3/3 [==============================] - 0s 34ms/step - loss: 0.1513 - accuracy: 0.9663 - val_loss: 0.2204 - val_accuracy: 0.9565\n",
            "Epoch 48/50\n",
            "3/3 [==============================] - 0s 32ms/step - loss: 0.1464 - accuracy: 0.9663 - val_loss: 0.2184 - val_accuracy: 0.9565\n",
            "Epoch 49/50\n",
            "3/3 [==============================] - 0s 33ms/step - loss: 0.1423 - accuracy: 0.9663 - val_loss: 0.2188 - val_accuracy: 0.9565\n",
            "Epoch 50/50\n",
            "3/3 [==============================] - 0s 32ms/step - loss: 0.1384 - accuracy: 0.9663 - val_loss: 0.2207 - val_accuracy: 0.9565\n"
          ]
        }
      ]
    },
    {
      "cell_type": "code",
      "source": [
        "model.summary()"
      ],
      "metadata": {
        "colab": {
          "base_uri": "https://localhost:8080/"
        },
        "id": "jOVzu81N3ODl",
        "outputId": "53b0ba79-0eec-49c3-bb01-26c07ac25307"
      },
      "execution_count": 7,
      "outputs": [
        {
          "output_type": "stream",
          "name": "stdout",
          "text": [
            "Model: \"sequential\"\n",
            "_________________________________________________________________\n",
            " Layer (type)                Output Shape              Param #   \n",
            "=================================================================\n",
            " dense (Dense)               (None, 64)                320       \n",
            "                                                                 \n",
            " dense_1 (Dense)             (None, 64)                4160      \n",
            "                                                                 \n",
            " dense_2 (Dense)             (None, 3)                 195       \n",
            "                                                                 \n",
            "=================================================================\n",
            "Total params: 4675 (18.26 KB)\n",
            "Trainable params: 4675 (18.26 KB)\n",
            "Non-trainable params: 0 (0.00 Byte)\n",
            "_________________________________________________________________\n"
          ]
        }
      ]
    },
    {
      "cell_type": "code",
      "source": [
        "# testing\n",
        "from sklearn.metrics import accuracy_score\n",
        "y_pred = model.predict(x_test)\n",
        "y_pred = y_pred.argmax(axis=1)\n",
        "test_accuracy = accuracy_score(y_test, y_pred)\n",
        "print('Test Accuracy (using scikit-learn):', test_accuracy)"
      ],
      "metadata": {
        "colab": {
          "base_uri": "https://localhost:8080/"
        },
        "id": "hf8XNzTN3SpF",
        "outputId": "e0cea30d-ec9c-41ac-9cfb-8fc1cfd7d18d"
      },
      "execution_count": 8,
      "outputs": [
        {
          "output_type": "stream",
          "name": "stdout",
          "text": [
            "2/2 [==============================] - 0s 15ms/step\n",
            "Test Accuracy (using scikit-learn): 1.0\n"
          ]
        }
      ]
    },
    {
      "cell_type": "code",
      "source": [
        "pd.DataFrame(history.history).plot()"
      ],
      "metadata": {
        "colab": {
          "base_uri": "https://localhost:8080/",
          "height": 447
        },
        "id": "-G9CDZg83UYM",
        "outputId": "21258720-fd84-4f0d-d85d-138b77f288a7"
      },
      "execution_count": 9,
      "outputs": [
        {
          "output_type": "execute_result",
          "data": {
            "text/plain": [
              "<Axes: >"
            ]
          },
          "metadata": {},
          "execution_count": 9
        },
        {
          "output_type": "display_data",
          "data": {
            "text/plain": [
              "<Figure size 640x480 with 1 Axes>"
            ],
            "image/png": "[encoded data removed]"
          },
          "metadata": {}
        }
      ]
    }
  ]
}