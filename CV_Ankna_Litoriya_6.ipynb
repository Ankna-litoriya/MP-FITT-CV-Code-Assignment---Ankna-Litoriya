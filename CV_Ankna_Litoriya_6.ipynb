{
  "nbformat": 4,
  "nbformat_minor": 0,
  "metadata": {
    "colab": {
      "provenance": []
    },
    "kernelspec": {
      "name": "python3",
      "display_name": "Python 3"
    },
    "language_info": {
      "name": "python"
    }
  },
  "cells": [
    {
      "cell_type": "code",
      "execution_count": null,
      "metadata": {
        "id": "fUYOOimqEKgS"
      },
      "outputs": [],
      "source": [
        "import pygame\n",
        "from pygame.locals import *\n",
        "from OpenGL.GL import *\n",
        "from OpenGL.GLUT import *\n",
        "import cv2\n",
        "import cv2.aruco as aruco\n",
        "import numpy as np\n",
        "\n",
        "# Initialize Pygame\n",
        "pygame.init()\n",
        "width, height = 800, 600\n",
        "pygame.display.set_mode((width, height), DOUBLEBUF | OPENGL)\n",
        "glViewport(0, 0, width, height)\n",
        "glMatrixMode(GL_PROJECTION)\n",
        "glLoadIdentity()\n",
        "glOrtho(0, width, height, 0, -1, 1)\n",
        "glMatrixMode(GL_MODELVIEW)\n",
        "\n",
        "# Initialize ArUco\n",
        "aruco_dict = aruco.Dictionary_get(aruco.DICT_6X6_250)\n",
        "parameters = aruco.DetectorParameters_create()\n",
        "\n",
        "# Main loop\n",
        "while True:\n",
        "    for event in pygame.event.get():\n",
        "        if event.type == pygame.QUIT:\n",
        "            pygame.quit()\n",
        "            quit()\n",
        "\n",
        "    # Capture video frame\n",
        "    _, frame = cap.read()\n",
        "\n",
        "    # Detect ArUco markers\n",
        "    gray = cv2.cvtColor(frame, cv2.COLOR_BGR2GRAY)\n",
        "    corners, ids, _ = aruco.detectMarkers(gray, aruco_dict, parameters=parameters)\n",
        "\n",
        "    # Draw OpenGL graphics\n",
        "    glClear(GL_COLOR_BUFFER_BIT | GL_DEPTH_BUFFER_BIT)\n",
        "\n",
        "    # Your OpenGL drawing code here\n",
        "\n",
        "    # Swap buffers\n",
        "    pygame.display.flip()\n",
        "    pygame.time.wait(10)\n"
      ]
    }
  ]
}